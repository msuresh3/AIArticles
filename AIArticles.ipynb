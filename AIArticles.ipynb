{
 "cells": [
  {
   "cell_type": "code",
   "execution_count": 171,
   "id": "a0f546de-e87b-4d65-8d2d-25fbd0f6fa55",
   "metadata": {},
   "outputs": [],
   "source": [
    "import requests\n",
    "import pandas as pd\n",
    "from datetime import date, datetime, timedelta"
   ]
  },
  {
   "cell_type": "code",
   "execution_count": 172,
   "id": "9a0ca9ce-a293-4d24-a3d8-b18fc67d2c22",
   "metadata": {},
   "outputs": [],
   "source": [
    "def fetch_articles():\n",
    "    api_key = \"ad533ac079034c2daf48616494df3601\"\n",
    "    start_day = date.today() - timedelta(2)\n",
    "    format = '%Y-%m-%d'\n",
    "    start_date = start_day.strftime(format)\n",
    "    url_txt = \"https://newsapi.org/v2/everything?q=AI+Machine+Learning+Deep+Learning&from=\"+ start_date +\"&sortBy=publishedAt&apiKey={api_key}\"\n",
    "    response = requests.get(url).json()\n",
    "    return response['articles']"
   ]
  },
  {
   "cell_type": "code",
   "execution_count": 173,
   "id": "70021745-0d16-45fc-bcff-473de180a4df",
   "metadata": {},
   "outputs": [
    {
     "name": "stdout",
     "output_type": "stream",
     "text": [
      "                                                title  \\\n",
      "0   India’s JioStar Launches Unified Streaming Pla...   \n",
      "1   Latent Labs raises $50M to develop new protein...   \n",
      "2   Foundational blocks of Amazon SageMaker Unifie...   \n",
      "3   Build a dynamic, role-based AI agent using Ama...   \n",
      "4         Tech has changed. Dating? It’s complicated.   \n",
      "5   The end of data silos? How SAP is redefining e...   \n",
      "6   The Cyber Resiliency Summit returns with new i...   \n",
      "7   Enzymes are the engines of life − machine lear...   \n",
      "8   7 Attractive Sectors For Growth Stocks In The ...   \n",
      "9   YYC DataCon returns in two weeks, bringing Cal...   \n",
      "10  AI-powered humanoid robotics company Apptronik...   \n",
      "11  Interview Kickstart AI Course 2025 Update - Be...   \n",
      "12  Europe enters the AI race with $207 billion In...   \n",
      "13  10 AI Skills To Boost Your Salary Up To 47% In...   \n",
      "14  AMA survey: More doctors using – but lukewarm ...   \n",
      "15  Don’t Expect Google’s DeepMind Robots At The F...   \n",
      "16  AI in Medical Imaging Market Size Projected to...   \n",
      "17  Flow Cytometry Market Size to Worth USD 12.11 ...   \n",
      "18                    ‘There’s No Other Show Like It’   \n",
      "19  Detection of latent brain states from spontane...   \n",
      "\n",
      "                                                  url           publishedAt  \\\n",
      "0   https://variety.com/2025/tv/news/india-jiostar...  2025-02-14T00:30:00Z   \n",
      "1   https://siliconangle.com/2025/02/13/latent-lab...  2025-02-13T22:12:30Z   \n",
      "2   https://aws.amazon.com/blogs/big-data/foundati...  2025-02-13T22:07:20Z   \n",
      "3   https://aws.amazon.com/blogs/machine-learning/...  2025-02-13T20:56:28Z   \n",
      "4   https://news.harvard.edu/gazette/story/2025/02...  2025-02-13T19:56:32Z   \n",
      "5   https://www.zdnet.com/article/the-end-of-data-...  2025-02-13T19:36:22Z   \n",
      "6   https://siliconangle.com/2025/02/13/watch-cybe...  2025-02-13T19:27:34Z   \n",
      "7   https://theconversation.com/enzymes-are-the-en...  2025-02-13T19:02:46Z   \n",
      "8   https://www.forbes.com/sites/investor-hub/arti...  2025-02-13T18:55:39Z   \n",
      "9   https://www.digitaljournal.com/tech-science/yy...  2025-02-13T17:55:13Z   \n",
      "10  https://siliconangle.com/2025/02/13/ai-powered...  2025-02-13T17:45:17Z   \n",
      "11  https://www.globenewswire.com/news-release/202...  2025-02-13T17:18:00Z   \n",
      "12  https://www.techspot.com/news/106756-europe-fu...  2025-02-13T17:07:00Z   \n",
      "13  https://www.forbes.com/sites/rachelwells/2025/...  2025-02-13T17:00:31Z   \n",
      "14  https://www.healthcareitnews.com/news/ama-surv...  2025-02-13T15:57:45Z   \n",
      "15  https://www.forbes.com/sites/dimitarmixmihov/2...  2025-02-13T15:15:12Z   \n",
      "16  https://www.globenewswire.com/news-release/202...  2025-02-13T15:12:00Z   \n",
      "17  https://www.globenewswire.com/news-release/202...  2025-02-13T15:00:00Z   \n",
      "18  http://www.vulture.com/article/snl50-snl-cast-...  2025-02-13T14:00:31Z   \n",
      "19  https://journals.plos.org/ploscompbiol/article...  2025-02-13T14:00:00Z   \n",
      "\n",
      "                                               source  \n",
      "0                     {'id': None, 'name': 'Variety'}  \n",
      "1           {'id': None, 'name': 'SiliconANGLE News'}  \n",
      "2                  {'id': None, 'name': 'Amazon.com'}  \n",
      "3                  {'id': None, 'name': 'Amazon.com'}  \n",
      "4   {'id': None, 'name': 'Harvard School of Engine...  \n",
      "5                       {'id': None, 'name': 'ZDNet'}  \n",
      "6           {'id': None, 'name': 'SiliconANGLE News'}  \n",
      "7     {'id': None, 'name': 'The Conversation Africa'}  \n",
      "8                      {'id': None, 'name': 'Forbes'}  \n",
      "9             {'id': None, 'name': 'Digital Journal'}  \n",
      "10          {'id': None, 'name': 'SiliconANGLE News'}  \n",
      "11              {'id': None, 'name': 'GlobeNewswire'}  \n",
      "12                   {'id': None, 'name': 'TechSpot'}  \n",
      "13                     {'id': None, 'name': 'Forbes'}  \n",
      "14         {'id': None, 'name': 'Healthcare IT News'}  \n",
      "15                     {'id': None, 'name': 'Forbes'}  \n",
      "16              {'id': None, 'name': 'GlobeNewswire'}  \n",
      "17              {'id': None, 'name': 'GlobeNewswire'}  \n",
      "18                    {'id': None, 'name': 'Vulture'}  \n",
      "19                   {'id': None, 'name': 'Plos.org'}  \n"
     ]
    }
   ],
   "source": [
    "articles = fetch_articles()\n",
    "df = pd.DataFrame(articles)[['title', 'url', 'publishedAt', 'source']]\n",
    "df.to_csv(\"raw_articles.csv\")\n",
    "print (df)"
   ]
  },
  {
   "cell_type": "code",
   "execution_count": null,
   "id": "582b2cfb-ef96-469b-979e-658931fc2330",
   "metadata": {},
   "outputs": [],
   "source": []
  }
 ],
 "metadata": {
  "kernelspec": {
   "display_name": "Python 3 (ipykernel)",
   "language": "python",
   "name": "python3"
  },
  "language_info": {
   "codemirror_mode": {
    "name": "ipython",
    "version": 3
   },
   "file_extension": ".py",
   "mimetype": "text/x-python",
   "name": "python",
   "nbconvert_exporter": "python",
   "pygments_lexer": "ipython3",
   "version": "3.12.8"
  }
 },
 "nbformat": 4,
 "nbformat_minor": 5
}
