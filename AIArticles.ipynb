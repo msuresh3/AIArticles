{
 "cells": [
  {
   "cell_type": "code",
   "execution_count": 1,
   "id": "a20f13c2-94c9-4ec7-9a32-2e8d95726598",
   "metadata": {},
   "outputs": [
    {
     "name": "stdout",
     "output_type": "stream",
     "text": [
      "Start\n"
     ]
    }
   ],
   "source": [
    "print ('Start')"
   ]
  },
  {
   "cell_type": "code",
   "execution_count": 3,
   "id": "a0f546de-e87b-4d65-8d2d-25fbd0f6fa55",
   "metadata": {},
   "outputs": [
    {
     "name": "stdout",
     "output_type": "stream",
     "text": [
      "The Impact of AI on HRMS\n"
     ]
    }
   ],
   "source": [
    "import requests\n",
    "api_key = \"ad533ac079034c2daf48616494df3601\"\n",
    "url = f\"https://newsapi.org/v2/everything?q=AI+Machine+Learning+Deep+Learning&sortBy=publishedAt&pageSize=20&apiKey={api_key}\"\n",
    "response = requests.get(url).json()\n",
    "articles = response['articles']\n",
    "print(articles[0]['title'])  # Test if it works"
   ]
  },
  {
   "cell_type": "code",
   "execution_count": null,
   "id": "a64f172a-d75e-4a9a-b60e-23ba4dd406da",
   "metadata": {},
   "outputs": [],
   "source": []
  }
 ],
 "metadata": {
  "kernelspec": {
   "display_name": "Python 3 (ipykernel)",
   "language": "python",
   "name": "python3"
  },
  "language_info": {
   "codemirror_mode": {
    "name": "ipython",
    "version": 3
   },
   "file_extension": ".py",
   "mimetype": "text/x-python",
   "name": "python",
   "nbconvert_exporter": "python",
   "pygments_lexer": "ipython3",
   "version": "3.12.8"
  }
 },
 "nbformat": 4,
 "nbformat_minor": 5
}
