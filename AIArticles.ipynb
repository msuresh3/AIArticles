{
 "cells": [
  {
   "cell_type": "code",
   "execution_count": 242,
   "id": "a0f546de-e87b-4d65-8d2d-25fbd0f6fa55",
   "metadata": {},
   "outputs": [],
   "source": [
    "import requests\n",
    "import pandas as pd\n",
    "from datetime import date, datetime, timedelta\n",
    "from bs4 import BeautifulSoup"
   ]
  },
  {
   "cell_type": "code",
   "execution_count": 243,
   "id": "9a0ca9ce-a293-4d24-a3d8-b18fc67d2c22",
   "metadata": {},
   "outputs": [],
   "source": [
    "def fetch_articles():\n",
    "    api_key = \"ad533ac079034c2daf48616494df3601\"\n",
    "    start_day = date.today() - timedelta(2)\n",
    "    format = '%Y-%m-%d'\n",
    "    start_date = start_day.strftime(format)\n",
    "    url_txt = \"https://newsapi.org/v2/everything?q=AI+Machine+Learning+Deep+Learning&from=\"+ start_date +\"&sortBy=publishedAt&apiKey={api_key}\"\n",
    "    response = requests.get(url).json()\n",
    "    return response['articles']"
   ]
  },
  {
   "cell_type": "code",
   "execution_count": 247,
   "id": "70021745-0d16-45fc-bcff-473de180a4df",
   "metadata": {},
   "outputs": [],
   "source": [
    "articles = fetch_articles()\n",
    "df = pd.DataFrame(articles)[['title', 'url', 'publishedAt', 'source']]\n",
    "df.to_csv(\"raw_articles.csv\")\n",
    "#print (df)"
   ]
  },
  {
   "cell_type": "code",
   "execution_count": null,
   "id": "582b2cfb-ef96-469b-979e-658931fc2330",
   "metadata": {},
   "outputs": [],
   "source": [
    "keywords = [\"advancement\", \"breakthrough\", \"invention\", \"achievement\", \"discovery\", \"new\", \"milestone\"]\n",
    "df['relevance_score'] = df['title'].apply(lambda x: sum(keyword in x.lower() for keyword in keywords))"
   ]
  },
  {
   "cell_type": "code",
   "execution_count": null,
   "id": "c5f4289c-b43c-4a4f-9f1d-164447771261",
   "metadata": {},
   "outputs": [],
   "source": [
    "trusted_sources = ['MIT News', 'TechCrunch', 'Wired', 'ArXiv']\n",
    "df['source_score'] = df['source'].apply(lambda x: 2 if x['name'] in trusted_sources else 1)\n",
    "df['total_score'] = df['relevance_score'] + df['source_score']\n",
    "top_5 = df.sort_values(by=['total_score', 'publishedAt'], ascending=False).head(5)"
   ]
  },
  {
   "cell_type": "code",
   "execution_count": null,
   "id": "82c79bbe-6ed7-43d9-bc3f-131cf29b6acc",
   "metadata": {},
   "outputs": [],
   "source": [
    "print (top_5['title'], top_5['url'])"
   ]
  },
  {
   "cell_type": "code",
   "execution_count": 245,
   "id": "2be2e9e3-d2fe-4d8a-8a32-6df80a392211",
   "metadata": {},
   "outputs": [],
   "source": [
    "def scrape_article_text(url):\n",
    "    try:\n",
    "        html = requests.get(url).text\n",
    "        soup = BeautifulSoup(html, 'html.parser')\n",
    "        paragraphs = soup.find_all('p')\n",
    "        return ' '.join([p.text for p in paragraphs[:5]])  # First 5 paragraphs\n",
    "    except:\n",
    "        return \"\""
   ]
  },
  {
   "cell_type": "code",
   "execution_count": 246,
   "id": "676ff7d6-b57a-4761-81b8-867e1962b946",
   "metadata": {},
   "outputs": [
    {
     "name": "stdout",
     "output_type": "stream",
     "text": [
      "Community As digital payments surge in India, so does the threat from increasingly sophisticated fraud schemes. The Reserve Bank of India (RBI) recently warned lenders about a dramatic rise in digital fraud, prompting urgent regulatory measures. According to Reuters,\n",
      " the RBI is set to introduce exclusive domain names ‘bank.in’ for banks and\n",
      "‘fin.in’ for financial services to combat fraudsters who use deceptively similar domains. Meanwhile, industry data reveals that over 74% of organizations now rely on AI to prevent fraud, and global machine learning (ML) in fraud detection is projected to reach USD 302.9 billion by 2034, growing at a CAGR of 35.8% from 2025 onward. These developments\n",
      " underscore a pivotal moment for financial institutions to invest in advanced, adaptive technologies and robust regulatory frameworks. Today’s fraud detection systems combine advanced AI and ML techniques to continuously learn and adapt. Banks are deploying state‑of‑the‑art models such as gradient-boosted trees, deep neural networks, and even Transformer-based architectures to identify\n",
      " subtle anomalies in transaction data. Cloud-native platforms like Azure AI and AWS FinOps offer the scalability required for real‑time monitoring, while natural language processing tools such as OpenAI GPT and Google Vertex AI analyze unstructured data (e.g., customer communications) to pinpoint\n",
      " suspicious patterns.\n",
      "----------------------------------------------------------------------------\n",
      "\n",
      "UPDATED 17:12 EST / FEBRUARY 13 2025\n",
      "\n",
      " \n",
      "\t                    \t\t                        by \n",
      "Maria Deutscher\n",
      "\n",
      " Latent Labs Inc., an artificial intelligence startup focused on the healthcare sector, launched today with $50 million in initial funding. Radical Ventures and Sofinnova Partners jointly led the investment. They were joined by more than a half-dozen other backers, including Google LLC Chief Scientist Jeff Dean. Cohere Inc. Chief Executive Officer Aidan Gomez, a former researcher at the search giant who co-invented the Transformer architecture, participated as well. Latent Labs is led by CEO Simon Kohl, who previously worked at Google parent Alphabet Inc.’s DeepMind machine learning lab. He was part of the team that developed DeepMind’s groundbreaking AlphaFold2 neural network. The algorithm, which helps researchers understand the shape of proteins, earned Google scientists Demis Hassabis and John Jumper one half of the 2024 Nobel Prize for Chemistry.\n",
      "----------------------------------------------------------------------------\n",
      "\n",
      "UPDATED 14:27 EST / FEBRUARY 13 2025\n",
      "\n",
      " \n",
      "\t                    \t\t                        by \n",
      "Victoria Gayton\n",
      "\n",
      " Cyber threats aren’t just increasing; they’re evolving at an alarming rate. Artificial intelligence is fueling an arms race in cyber resilience, with enterprises scrambling to defend their systems while attackers leverage automation and machine learning to strike with unprecedented precision. With cyber risks escalating and preparedness lagging, don’t miss theCUBE’s encore presentation of our Cyber Resiliency Summit. Our coverage provides critical insights from industry leaders on the future of cyber resilience. Featuring key discussions from cyber resiliency leaders at Dell Technologies Inc., VMware by Broadcom, Congruity360 and more, the event tackled ransomware, AI-driven threats and the pressing need for organizations to balance prevention with recovery. As cyber risks escalate, these conversations remain as critical as ever. “From the many conversations and testimonials we heard at the Cyber Resiliency Summit, there is ample opportunity for organizations to strengthen their cyber resilience technology profile,” said  Christophe Bertrand, principal analyst at theCUBE Research. “Yet, it’s about much more than technology. It is also about the human element, communications and processes. The stakes have never been higher in the age of AI-powered cyberattacks. That’s why I hope people will join our rebroadcast and take advantage of our on-demand option.”\n",
      "----------------------------------------------------------------------------\n",
      "\n",
      "      Postdoctoral Scholar in Biochemistry, University of Washington\n",
      "     Sam Pellock receives funding from the Washington Research Foundation and Schmidt Futures program.  University of Washington provides funding as a member of The Conversation US. View all partners\n",
      "----------------------------------------------------------------------------\n",
      "\n",
      " \n",
      "\t\t\t\t\t\t\t\tBy \n",
      "\n",
      "\tNaman Ramachandran\n",
      " \n",
      "\tIn a landmark move that reshapes India‘s streaming landscape, JioStar has unveiled JioHotstar, merging JioCinema and Disney+ Hotstar. The unified platform, launching Feb. 14, boasts nearly 300,000 hours of content and claims a user base exceeding 500 million. \n",
      "\tThe move follows the events of 2024 when the Indian entertainment landscape witnessed a seismic shift with Reliance Industries and Disney completing their long-awaited media merger, giving birth to JioStar – a media powerhouse valued at $8.5 billion. The merger combined Disney’s Star India with Reliance’s Viacom18 and their respective platforms.  \n",
      "\tWith the company structured under three distinct leaderships – Kiran Mani (CEO – Digital), Kevin Vaz (CEO – Broadcast Entertainment), and Sanjog Gupta (CEO – Sports) – JioStar operates with a shared vision of universalizing entertainment access. Mani, a seasoned digital strategist who previously led Google’s Android and Play Ecosystems in Asia-Pacific and Japan, is spearheading the company’s digital operations. Vaz, a veteran entertainment executive instrumental in launching over 50 channels at Disney Star, oversees JioStar’s extensive television and regional content business. Gupta, with two decades in sports broadcasting, drives JioStar’s sports strategy, having played a crucial role in expanding multi-language sports coverage and interactive experiences.\n",
      "\n",
      "\t\n",
      "\n",
      "\n",
      "\n",
      "\n",
      "\n",
      "\n",
      "\n",
      "\n",
      "\n",
      "\n",
      "\t\t\tPopular on Variety\t\t\n",
      "\n",
      "\n",
      "\n",
      "\n",
      "\n",
      "\n",
      "\n",
      "\t\n",
      "\t\n",
      "\t\t\n",
      "\t\t\t\t\tRelated Stories\t\t\n",
      "\t\n",
      "\n",
      "\n",
      "\n",
      "\n",
      "\n",
      "\n",
      "\n",
      "\n",
      "\n",
      "\n",
      "\n",
      "\n",
      "\n",
      "\n",
      "\n",
      "\tVIP+\n",
      "\t\n",
      "\n",
      "\n",
      "\n",
      "\t\n",
      "\t\t\n",
      "\t\t\t\t\tThe Uphill Battle to Convince Productions to Stay in L.A.\t\t\n",
      "\t\t\t\n",
      "\n",
      "\n",
      "\n",
      "\n",
      "\n",
      "\n",
      "\n",
      "\n",
      "\n",
      "\n",
      "\n",
      "\n",
      "\n",
      "\n",
      "\t\n",
      "\t\t\n",
      "\t\t\t\t\tTim Robinson Said Lorne Michaels 'Lost His F—ing Mind' Inviting Trump to Host 'SNL'\t\t\n",
      "\t\t\t\n",
      "\n",
      "\n",
      "\n",
      "\n",
      "\n",
      "\n",
      "\n",
      "----------------------------------------------------------------------------\n"
     ]
    }
   ],
   "source": [
    "for i in ((top_5['url'])):\n",
    "    #print(i)\n",
    "    print (scrape_article_text(i))\n",
    "    print('----------------------------------------------------------------------------')\n",
    "#scrape_article_text (\"https://www.finextra.com/blogposting/27840/dig\")"
   ]
  },
  {
   "cell_type": "code",
   "execution_count": null,
   "id": "776a13f4-657a-430a-b3ea-d2b5007894d6",
   "metadata": {},
   "outputs": [],
   "source": []
  }
 ],
 "metadata": {
  "kernelspec": {
   "display_name": "Python 3 (ipykernel)",
   "language": "python",
   "name": "python3"
  },
  "language_info": {
   "codemirror_mode": {
    "name": "ipython",
    "version": 3
   },
   "file_extension": ".py",
   "mimetype": "text/x-python",
   "name": "python",
   "nbconvert_exporter": "python",
   "pygments_lexer": "ipython3",
   "version": "3.12.8"
  }
 },
 "nbformat": 4,
 "nbformat_minor": 5
}
